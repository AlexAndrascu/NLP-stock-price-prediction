{
 "cells": [
  {
   "cell_type": "code",
   "execution_count": null,
   "metadata": {},
   "outputs": [],
   "source": [
    "import pandas as pd\n",
    "\n",
    "feat = pd.read_csv('../data/interim/text_features.csv', index_col=0)"
   ]
  },
  {
   "cell_type": "code",
   "execution_count": null,
   "metadata": {},
   "outputs": [],
   "source": [
    "feat.shape"
   ]
  },
  {
   "cell_type": "code",
   "execution_count": null,
   "metadata": {},
   "outputs": [],
   "source": [
    "feat.head(10)"
   ]
  },
  {
   "cell_type": "code",
   "execution_count": null,
   "metadata": {},
   "outputs": [],
   "source": [
    "summed = np.sum(feat, axis=0).sort_values(ascending=False)\n",
    "summed"
   ]
  },
  {
   "cell_type": "code",
   "execution_count": null,
   "metadata": {},
   "outputs": [],
   "source": [
    "import matplotlib.pyplot as plt\n",
    "f, a = plt.subplots(figsize=(10, 5))\n",
    "\n",
    "summed.iloc[:20].plot(ax=a, kind='bar')"
   ]
  },
  {
   "cell_type": "code",
   "execution_count": null,
   "metadata": {},
   "outputs": [],
   "source": [
    "feat = pd.read_csv('../data/train/Combined_News_DJIA_train.csv', index_col=0)"
   ]
  },
  {
   "cell_type": "code",
   "execution_count": null,
   "metadata": {},
   "outputs": [],
   "source": [
    "feat.head()"
   ]
  },
  {
   "cell_type": "code",
   "execution_count": null,
   "metadata": {},
   "outputs": [],
   "source": [
    "#!pip install statsmodels\n",
    "\n",
    "from statsmodels.graphics.tsaplots import plot_acf, plot_pacf\n",
    "\n",
    "def plot_autocorrelation(data, column, lags=5):\n",
    "    print(\"\"\"\n",
    "    Autocorrelation is the correlation of a variable with a lagged version of itself.\n",
    "    Spikes in autocorrelation suggest seasonality.  For example, a spike in ACF at lag 24 hours\n",
    "    would suggest daily seasonality\n",
    "    Partial autocorrelation measures the degree of association between the variable and a lagged version of itself,\n",
    "    controlling for the values of the time series at all shorter lags.\n",
    "    The use of this function was introduced as part of the Box–Jenkins approach to time series modelling,\n",
    "    whereby plotting the partial autocorrelative functions one could determine the appropriate lags p in an AR (p) model\n",
    "    or in an extended ARIMA (p,d,q) model.\n",
    "    \"\"\")\n",
    "\n",
    "    fig, axes = plt.subplots(nrows=2, figsize=(25, 10))\n",
    "\n",
    "    _ = plot_acf(data.loc[:, column], lags=lags, ax=axes[0])\n",
    "\n",
    "    _ = plot_pacf(data.loc[:, column], lags=lags, ax=axes[1])\n",
    "\n",
    "    return fig\n",
    "\n",
    "#_ = plot_autocorrelation(feat, 'Label')"
   ]
  },
  {
   "cell_type": "code",
   "execution_count": null,
   "metadata": {},
   "outputs": [],
   "source": [
    "#number = pd.read_csv('../data/train/number_data', index_col=0)\n",
    "\n",
    "number = pd.read_csv('../data/interim/clean_DJIA.csv', index_col=0)\n",
    "\n",
    "from sklearn.preprocessing import StandardScaler\n",
    "\n",
    "sclr = StandardScaler()\n",
    "\n",
    "number.loc[:, 'diff'] = number.loc[:, 'Adj Close'] - number.loc[:, 'Adj Close'].shift(1)\n",
    "\n",
    "number.loc[:, 'new'] = sclr.fit_transform(number.loc[:, 'Adj Close'].values.reshape(-1, 1))"
   ]
  },
  {
   "cell_type": "code",
   "execution_count": null,
   "metadata": {},
   "outputs": [],
   "source": [
    "number.head()"
   ]
  },
  {
   "cell_type": "code",
   "execution_count": null,
   "metadata": {},
   "outputs": [],
   "source": [
    "plt.plot(number.loc[:, 'diff'])"
   ]
  },
  {
   "cell_type": "code",
   "execution_count": null,
   "metadata": {},
   "outputs": [],
   "source": [
    "_ = plot_autocorrelation(number, 'Volume', lags=14)"
   ]
  },
  {
   "cell_type": "code",
   "execution_count": null,
   "metadata": {},
   "outputs": [],
   "source": [
    "_ = plot_autocorrelation(number, 'Adj Close')"
   ]
  },
  {
   "cell_type": "code",
   "execution_count": null,
   "metadata": {},
   "outputs": [],
   "source": [
    "plot_acf?"
   ]
  },
  {
   "cell_type": "code",
   "execution_count": null,
   "metadata": {},
   "outputs": [],
   "source": []
  },
  {
   "cell_type": "code",
   "execution_count": null,
   "metadata": {},
   "outputs": [],
   "source": []
  }
 ],
 "metadata": {
  "kernelspec": {
   "display_name": "Python 3",
   "language": "python",
   "name": "python3"
  },
  "language_info": {
   "codemirror_mode": {
    "name": "ipython",
    "version": 3
   },
   "file_extension": ".py",
   "mimetype": "text/x-python",
   "name": "python",
   "nbconvert_exporter": "python",
   "pygments_lexer": "ipython3",
   "version": "3.6.8"
  }
 },
 "nbformat": 4,
 "nbformat_minor": 4
}
