{
 "cells": [
  {
   "cell_type": "code",
   "execution_count": 1,
   "metadata": {},
   "outputs": [],
   "source": [
    "import pandas as pd\n",
    "import numpy as np\n",
    "import matplotlib as plt\n",
    "import seaborn as sns\n",
    "import matplotlib.pyplot as plt\n",
    "from scipy import stats"
   ]
  },
  {
   "cell_type": "markdown",
   "metadata": {},
   "source": [
    "### loading data to dataframes for first impression "
   ]
  },
  {
   "cell_type": "code",
   "execution_count": 2,
   "metadata": {},
   "outputs": [],
   "source": [
    "filename = \"DJIA_table_train.csv\" \n",
    "mydir=\"/home/edith/Documents/DSR/mincomp2/minicomp-news-stock-prices/data/train/\"\n",
    "DJ_df = pd.read_csv(mydir+filename, parse_dates=True)"
   ]
  },
  {
   "cell_type": "code",
   "execution_count": 3,
   "metadata": {},
   "outputs": [
    {
     "data": {
      "text/html": [
       "<div>\n",
       "<style scoped>\n",
       "    .dataframe tbody tr th:only-of-type {\n",
       "        vertical-align: middle;\n",
       "    }\n",
       "\n",
       "    .dataframe tbody tr th {\n",
       "        vertical-align: top;\n",
       "    }\n",
       "\n",
       "    .dataframe thead th {\n",
       "        text-align: right;\n",
       "    }\n",
       "</style>\n",
       "<table border=\"1\" class=\"dataframe\">\n",
       "  <thead>\n",
       "    <tr style=\"text-align: right;\">\n",
       "      <th></th>\n",
       "      <th>Date</th>\n",
       "      <th>Open</th>\n",
       "      <th>High</th>\n",
       "      <th>Low</th>\n",
       "      <th>Close</th>\n",
       "      <th>Volume</th>\n",
       "      <th>Adj Close</th>\n",
       "      <th>label</th>\n",
       "    </tr>\n",
       "  </thead>\n",
       "  <tbody>\n",
       "    <tr>\n",
       "      <th>0</th>\n",
       "      <td>2008-08-08</td>\n",
       "      <td>11432.089844</td>\n",
       "      <td>NaN</td>\n",
       "      <td>11388.040039</td>\n",
       "      <td>11734.320312</td>\n",
       "      <td>212830000.0</td>\n",
       "      <td>11734.320312</td>\n",
       "      <td>0.0</td>\n",
       "    </tr>\n",
       "    <tr>\n",
       "      <th>1</th>\n",
       "      <td>2008-08-11</td>\n",
       "      <td>11729.669922</td>\n",
       "      <td>11867.110352</td>\n",
       "      <td>11675.530273</td>\n",
       "      <td>11782.349609</td>\n",
       "      <td>NaN</td>\n",
       "      <td>11782.349609</td>\n",
       "      <td>0.0</td>\n",
       "    </tr>\n",
       "    <tr>\n",
       "      <th>2</th>\n",
       "      <td>2008-08-12</td>\n",
       "      <td>11781.700195</td>\n",
       "      <td>11782.349609</td>\n",
       "      <td>11601.519531</td>\n",
       "      <td>11642.469727</td>\n",
       "      <td>173590000.0</td>\n",
       "      <td>11642.469727</td>\n",
       "      <td>1.0</td>\n",
       "    </tr>\n",
       "    <tr>\n",
       "      <th>3</th>\n",
       "      <td>2008-08-13</td>\n",
       "      <td>11632.809570</td>\n",
       "      <td>11633.780273</td>\n",
       "      <td>11453.339844</td>\n",
       "      <td>11532.959961</td>\n",
       "      <td>182550000.0</td>\n",
       "      <td>11532.959961</td>\n",
       "      <td>1.0</td>\n",
       "    </tr>\n",
       "    <tr>\n",
       "      <th>4</th>\n",
       "      <td>2008-08-14</td>\n",
       "      <td>11532.070312</td>\n",
       "      <td>11718.280273</td>\n",
       "      <td>11450.889648</td>\n",
       "      <td>11615.929688</td>\n",
       "      <td>159790000.0</td>\n",
       "      <td>11615.929688</td>\n",
       "      <td>NaN</td>\n",
       "    </tr>\n",
       "  </tbody>\n",
       "</table>\n",
       "</div>"
      ],
      "text/plain": [
       "         Date          Open          High           Low         Close  \\\n",
       "0  2008-08-08  11432.089844           NaN  11388.040039  11734.320312   \n",
       "1  2008-08-11  11729.669922  11867.110352  11675.530273  11782.349609   \n",
       "2  2008-08-12  11781.700195  11782.349609  11601.519531  11642.469727   \n",
       "3  2008-08-13  11632.809570  11633.780273  11453.339844  11532.959961   \n",
       "4  2008-08-14  11532.070312  11718.280273  11450.889648  11615.929688   \n",
       "\n",
       "        Volume     Adj Close  label  \n",
       "0  212830000.0  11734.320312    0.0  \n",
       "1          NaN  11782.349609    0.0  \n",
       "2  173590000.0  11642.469727    1.0  \n",
       "3  182550000.0  11532.959961    1.0  \n",
       "4  159790000.0  11615.929688    NaN  "
      ]
     },
     "execution_count": 3,
     "metadata": {},
     "output_type": "execute_result"
    }
   ],
   "source": [
    "DJ_df.head()"
   ]
  },
  {
   "cell_type": "markdown",
   "metadata": {},
   "source": [
    "### exploring DJ_df "
   ]
  },
  {
   "cell_type": "code",
   "execution_count": 4,
   "metadata": {},
   "outputs": [
    {
     "data": {
      "text/plain": [
       "(1584, 8)"
      ]
     },
     "execution_count": 4,
     "metadata": {},
     "output_type": "execute_result"
    }
   ],
   "source": [
    "DJ_df.shape"
   ]
  },
  {
   "cell_type": "code",
   "execution_count": 5,
   "metadata": {},
   "outputs": [
    {
     "data": {
      "text/html": [
       "<div>\n",
       "<style scoped>\n",
       "    .dataframe tbody tr th:only-of-type {\n",
       "        vertical-align: middle;\n",
       "    }\n",
       "\n",
       "    .dataframe tbody tr th {\n",
       "        vertical-align: top;\n",
       "    }\n",
       "\n",
       "    .dataframe thead th {\n",
       "        text-align: right;\n",
       "    }\n",
       "</style>\n",
       "<table border=\"1\" class=\"dataframe\">\n",
       "  <thead>\n",
       "    <tr style=\"text-align: right;\">\n",
       "      <th></th>\n",
       "      <th>Open</th>\n",
       "      <th>High</th>\n",
       "      <th>Low</th>\n",
       "      <th>Close</th>\n",
       "      <th>Volume</th>\n",
       "      <th>Adj Close</th>\n",
       "      <th>label</th>\n",
       "    </tr>\n",
       "  </thead>\n",
       "  <tbody>\n",
       "    <tr>\n",
       "      <th>count</th>\n",
       "      <td>1510.000000</td>\n",
       "      <td>1505.000000</td>\n",
       "      <td>1519.000000</td>\n",
       "      <td>1513.000000</td>\n",
       "      <td>1.492000e+03</td>\n",
       "      <td>1523.000000</td>\n",
       "      <td>1503.000000</td>\n",
       "    </tr>\n",
       "    <tr>\n",
       "      <th>mean</th>\n",
       "      <td>12450.126443</td>\n",
       "      <td>12502.871161</td>\n",
       "      <td>12371.717136</td>\n",
       "      <td>12473.419958</td>\n",
       "      <td>1.756904e+08</td>\n",
       "      <td>12441.764919</td>\n",
       "      <td>0.458417</td>\n",
       "    </tr>\n",
       "    <tr>\n",
       "      <th>std</th>\n",
       "      <td>2667.713901</td>\n",
       "      <td>2646.087473</td>\n",
       "      <td>2678.915034</td>\n",
       "      <td>2663.267290</td>\n",
       "      <td>9.816605e+07</td>\n",
       "      <td>2666.134470</td>\n",
       "      <td>0.498434</td>\n",
       "    </tr>\n",
       "    <tr>\n",
       "      <th>min</th>\n",
       "      <td>6547.009766</td>\n",
       "      <td>6709.609863</td>\n",
       "      <td>6469.950195</td>\n",
       "      <td>6547.049805</td>\n",
       "      <td>8.410000e+06</td>\n",
       "      <td>6547.049805</td>\n",
       "      <td>0.000000</td>\n",
       "    </tr>\n",
       "    <tr>\n",
       "      <th>25%</th>\n",
       "      <td>10450.169678</td>\n",
       "      <td>10493.570312</td>\n",
       "      <td>10388.409668</td>\n",
       "      <td>10452.000000</td>\n",
       "      <td>1.092525e+08</td>\n",
       "      <td>10443.274902</td>\n",
       "      <td>0.000000</td>\n",
       "    </tr>\n",
       "    <tr>\n",
       "      <th>50%</th>\n",
       "      <td>12310.194824</td>\n",
       "      <td>12331.309570</td>\n",
       "      <td>12224.450195</td>\n",
       "      <td>12341.830078</td>\n",
       "      <td>1.506900e+08</td>\n",
       "      <td>12263.580078</td>\n",
       "      <td>0.000000</td>\n",
       "    </tr>\n",
       "    <tr>\n",
       "      <th>75%</th>\n",
       "      <td>14802.067627</td>\n",
       "      <td>14839.799805</td>\n",
       "      <td>14715.989746</td>\n",
       "      <td>14818.750000</td>\n",
       "      <td>2.099925e+08</td>\n",
       "      <td>14776.330078</td>\n",
       "      <td>1.000000</td>\n",
       "    </tr>\n",
       "    <tr>\n",
       "      <th>max</th>\n",
       "      <td>17685.509766</td>\n",
       "      <td>17735.710938</td>\n",
       "      <td>17642.029297</td>\n",
       "      <td>17719.000000</td>\n",
       "      <td>6.749200e+08</td>\n",
       "      <td>17719.000000</td>\n",
       "      <td>1.000000</td>\n",
       "    </tr>\n",
       "  </tbody>\n",
       "</table>\n",
       "</div>"
      ],
      "text/plain": [
       "               Open          High           Low         Close        Volume  \\\n",
       "count   1510.000000   1505.000000   1519.000000   1513.000000  1.492000e+03   \n",
       "mean   12450.126443  12502.871161  12371.717136  12473.419958  1.756904e+08   \n",
       "std     2667.713901   2646.087473   2678.915034   2663.267290  9.816605e+07   \n",
       "min     6547.009766   6709.609863   6469.950195   6547.049805  8.410000e+06   \n",
       "25%    10450.169678  10493.570312  10388.409668  10452.000000  1.092525e+08   \n",
       "50%    12310.194824  12331.309570  12224.450195  12341.830078  1.506900e+08   \n",
       "75%    14802.067627  14839.799805  14715.989746  14818.750000  2.099925e+08   \n",
       "max    17685.509766  17735.710938  17642.029297  17719.000000  6.749200e+08   \n",
       "\n",
       "          Adj Close        label  \n",
       "count   1523.000000  1503.000000  \n",
       "mean   12441.764919     0.458417  \n",
       "std     2666.134470     0.498434  \n",
       "min     6547.049805     0.000000  \n",
       "25%    10443.274902     0.000000  \n",
       "50%    12263.580078     0.000000  \n",
       "75%    14776.330078     1.000000  \n",
       "max    17719.000000     1.000000  "
      ]
     },
     "execution_count": 5,
     "metadata": {},
     "output_type": "execute_result"
    }
   ],
   "source": [
    "DJ_df.describe()"
   ]
  },
  {
   "cell_type": "code",
   "execution_count": 6,
   "metadata": {},
   "outputs": [
    {
     "name": "stderr",
     "output_type": "stream",
     "text": [
      "/home/edith/.local/lib/python3.6/site-packages/numpy/lib/histograms.py:824: RuntimeWarning: invalid value encountered in greater_equal\n",
      "  keep = (tmp_a >= first_edge)\n",
      "/home/edith/.local/lib/python3.6/site-packages/numpy/lib/histograms.py:825: RuntimeWarning: invalid value encountered in less_equal\n",
      "  keep &= (tmp_a <= last_edge)\n"
     ]
    },
    {
     "data": {
      "text/plain": [
       "<seaborn.axisgrid.PairGrid at 0x7fcee79824a8>"
      ]
     },
     "execution_count": 6,
     "metadata": {},
     "output_type": "execute_result"
    },
    {
     "data": {
      "image/png": "[encoded data removed]",
      "text/plain": [
       "<Figure size 1260x1260 with 56 Axes>"
      ]
     },
     "metadata": {
      "needs_background": "light"
     },
     "output_type": "display_data"
    }
   ],
   "source": [
    "sns.pairplot(DJ_df)"
   ]
  },
  {
   "cell_type": "code",
   "execution_count": 7,
   "metadata": {},
   "outputs": [
    {
     "data": {
      "text/plain": [
       "Date         True\n",
       "Open         True\n",
       "High         True\n",
       "Low          True\n",
       "Close        True\n",
       "Volume       True\n",
       "Adj Close    True\n",
       "label        True\n",
       "dtype: bool"
      ]
     },
     "execution_count": 7,
     "metadata": {},
     "output_type": "execute_result"
    }
   ],
   "source": [
    "DJ_df.any()"
   ]
  },
  {
   "cell_type": "markdown",
   "metadata": {},
   "source": [
    "### missing values: some values are highly correlated so we can use this correlation to fill empty values"
   ]
  },
  {
   "cell_type": "code",
   "execution_count": 8,
   "metadata": {},
   "outputs": [],
   "source": [
    "# function for calculating linear regression and using it to fill values\n",
    "def Fix_Empty(df1, df2):\n",
    "    f1_index = df1.index[df1.apply(np.isfinite)].to_list()\n",
    "    f2_index = df2.index[df2.apply(np.isfinite)].to_list()\n",
    "\n",
    "    idx=list(set(f1_index) & set(f2_index))\n",
    "    # since linearly correlated I can fill values easy using linear regression\n",
    "    slope, intercept, r_value, p_value, std_err = stats.linregress(df1[idx], df2[idx])\n",
    "    f2_index = df2.index[df2.apply(np.isnan)].to_list()\n",
    "\n",
    "    df2[f2_index] = intercept + slope * df1[f2_index]\n",
    "    \n",
    "    return\n"
   ]
  },
  {
   "cell_type": "markdown",
   "metadata": {},
   "source": [
    "### open and Adj_close"
   ]
  },
  {
   "cell_type": "code",
   "execution_count": 9,
   "metadata": {},
   "outputs": [
    {
     "name": "stderr",
     "output_type": "stream",
     "text": [
      "/home/edith/anaconda3/lib/python3.6/site-packages/ipykernel_launcher.py:11: SettingWithCopyWarning: \n",
      "A value is trying to be set on a copy of a slice from a DataFrame\n",
      "\n",
      "See the caveats in the documentation: http://pandas.pydata.org/pandas-docs/stable/indexing.html#indexing-view-versus-copy\n",
      "  # This is added back by InteractiveShellApp.init_path()\n"
     ]
    }
   ],
   "source": [
    "Fix_Empty(DJ_df.Open,DJ_df[\"Adj Close\"])"
   ]
  },
  {
   "cell_type": "code",
   "execution_count": 10,
   "metadata": {},
   "outputs": [
    {
     "name": "stderr",
     "output_type": "stream",
     "text": [
      "/home/edith/anaconda3/lib/python3.6/site-packages/ipykernel_launcher.py:11: SettingWithCopyWarning: \n",
      "A value is trying to be set on a copy of a slice from a DataFrame\n",
      "\n",
      "See the caveats in the documentation: http://pandas.pydata.org/pandas-docs/stable/indexing.html#indexing-view-versus-copy\n",
      "  # This is added back by InteractiveShellApp.init_path()\n"
     ]
    }
   ],
   "source": [
    "Fix_Empty(DJ_df[\"Adj Close\"],DJ_df.Open)"
   ]
  },
  {
   "cell_type": "markdown",
   "metadata": {},
   "source": [
    "### open and High"
   ]
  },
  {
   "cell_type": "code",
   "execution_count": 11,
   "metadata": {},
   "outputs": [
    {
     "name": "stderr",
     "output_type": "stream",
     "text": [
      "/home/edith/anaconda3/lib/python3.6/site-packages/ipykernel_launcher.py:11: SettingWithCopyWarning: \n",
      "A value is trying to be set on a copy of a slice from a DataFrame\n",
      "\n",
      "See the caveats in the documentation: http://pandas.pydata.org/pandas-docs/stable/indexing.html#indexing-view-versus-copy\n",
      "  # This is added back by InteractiveShellApp.init_path()\n"
     ]
    }
   ],
   "source": [
    "Fix_Empty(DJ_df.Open,DJ_df.High)\n",
    "Fix_Empty(DJ_df.High,DJ_df.Open)"
   ]
  },
  {
   "cell_type": "markdown",
   "metadata": {},
   "source": [
    "### Open and Low"
   ]
  },
  {
   "cell_type": "code",
   "execution_count": 12,
   "metadata": {},
   "outputs": [
    {
     "name": "stderr",
     "output_type": "stream",
     "text": [
      "/home/edith/anaconda3/lib/python3.6/site-packages/ipykernel_launcher.py:11: SettingWithCopyWarning: \n",
      "A value is trying to be set on a copy of a slice from a DataFrame\n",
      "\n",
      "See the caveats in the documentation: http://pandas.pydata.org/pandas-docs/stable/indexing.html#indexing-view-versus-copy\n",
      "  # This is added back by InteractiveShellApp.init_path()\n"
     ]
    }
   ],
   "source": [
    "Fix_Empty(DJ_df.Open,DJ_df.Low)\n",
    "Fix_Empty(DJ_df.Low,DJ_df.Open)"
   ]
  },
  {
   "cell_type": "markdown",
   "metadata": {},
   "source": [
    "### Open and Cose"
   ]
  },
  {
   "cell_type": "code",
   "execution_count": 13,
   "metadata": {},
   "outputs": [
    {
     "name": "stderr",
     "output_type": "stream",
     "text": [
      "/home/edith/anaconda3/lib/python3.6/site-packages/ipykernel_launcher.py:11: SettingWithCopyWarning: \n",
      "A value is trying to be set on a copy of a slice from a DataFrame\n",
      "\n",
      "See the caveats in the documentation: http://pandas.pydata.org/pandas-docs/stable/indexing.html#indexing-view-versus-copy\n",
      "  # This is added back by InteractiveShellApp.init_path()\n"
     ]
    }
   ],
   "source": [
    "Fix_Empty(DJ_df.Open,DJ_df.Close)\n",
    "Fix_Empty(DJ_df.Close,DJ_df.Open)"
   ]
  },
  {
   "cell_type": "markdown",
   "metadata": {},
   "source": [
    "### Close and Low"
   ]
  },
  {
   "cell_type": "code",
   "execution_count": 14,
   "metadata": {},
   "outputs": [
    {
     "name": "stderr",
     "output_type": "stream",
     "text": [
      "/home/edith/anaconda3/lib/python3.6/site-packages/ipykernel_launcher.py:11: SettingWithCopyWarning: \n",
      "A value is trying to be set on a copy of a slice from a DataFrame\n",
      "\n",
      "See the caveats in the documentation: http://pandas.pydata.org/pandas-docs/stable/indexing.html#indexing-view-versus-copy\n",
      "  # This is added back by InteractiveShellApp.init_path()\n"
     ]
    }
   ],
   "source": [
    "Fix_Empty(DJ_df.Low,DJ_df.Close)\n",
    "Fix_Empty(DJ_df.Close,DJ_df.Low)"
   ]
  },
  {
   "cell_type": "markdown",
   "metadata": {},
   "source": [
    "### Close and High"
   ]
  },
  {
   "cell_type": "code",
   "execution_count": 15,
   "metadata": {},
   "outputs": [
    {
     "name": "stderr",
     "output_type": "stream",
     "text": [
      "/home/edith/anaconda3/lib/python3.6/site-packages/ipykernel_launcher.py:11: SettingWithCopyWarning: \n",
      "A value is trying to be set on a copy of a slice from a DataFrame\n",
      "\n",
      "See the caveats in the documentation: http://pandas.pydata.org/pandas-docs/stable/indexing.html#indexing-view-versus-copy\n",
      "  # This is added back by InteractiveShellApp.init_path()\n"
     ]
    }
   ],
   "source": [
    "Fix_Empty(DJ_df.High,DJ_df.Close)\n",
    "Fix_Empty(DJ_df.Close,DJ_df.High)"
   ]
  },
  {
   "cell_type": "markdown",
   "metadata": {},
   "source": [
    "### Close and Adj_close"
   ]
  },
  {
   "cell_type": "code",
   "execution_count": 16,
   "metadata": {},
   "outputs": [
    {
     "name": "stderr",
     "output_type": "stream",
     "text": [
      "/home/edith/anaconda3/lib/python3.6/site-packages/ipykernel_launcher.py:11: SettingWithCopyWarning: \n",
      "A value is trying to be set on a copy of a slice from a DataFrame\n",
      "\n",
      "See the caveats in the documentation: http://pandas.pydata.org/pandas-docs/stable/indexing.html#indexing-view-versus-copy\n",
      "  # This is added back by InteractiveShellApp.init_path()\n"
     ]
    }
   ],
   "source": [
    "Fix_Empty(DJ_df.Close,DJ_df[\"Adj Close\"])\n",
    "Fix_Empty(DJ_df[\"Adj Close\"],DJ_df.Close)"
   ]
  },
  {
   "cell_type": "markdown",
   "metadata": {},
   "source": [
    "### Low and Adj_close"
   ]
  },
  {
   "cell_type": "code",
   "execution_count": 17,
   "metadata": {},
   "outputs": [
    {
     "name": "stderr",
     "output_type": "stream",
     "text": [
      "/home/edith/anaconda3/lib/python3.6/site-packages/ipykernel_launcher.py:11: SettingWithCopyWarning: \n",
      "A value is trying to be set on a copy of a slice from a DataFrame\n",
      "\n",
      "See the caveats in the documentation: http://pandas.pydata.org/pandas-docs/stable/indexing.html#indexing-view-versus-copy\n",
      "  # This is added back by InteractiveShellApp.init_path()\n"
     ]
    }
   ],
   "source": [
    "Fix_Empty(DJ_df.Low,DJ_df[\"Adj Close\"])\n",
    "Fix_Empty(DJ_df[\"Adj Close\"],DJ_df.Low)"
   ]
  },
  {
   "cell_type": "markdown",
   "metadata": {},
   "source": [
    "### Low and High"
   ]
  },
  {
   "cell_type": "code",
   "execution_count": 18,
   "metadata": {},
   "outputs": [
    {
     "name": "stderr",
     "output_type": "stream",
     "text": [
      "/home/edith/anaconda3/lib/python3.6/site-packages/ipykernel_launcher.py:11: SettingWithCopyWarning: \n",
      "A value is trying to be set on a copy of a slice from a DataFrame\n",
      "\n",
      "See the caveats in the documentation: http://pandas.pydata.org/pandas-docs/stable/indexing.html#indexing-view-versus-copy\n",
      "  # This is added back by InteractiveShellApp.init_path()\n"
     ]
    }
   ],
   "source": [
    "Fix_Empty(DJ_df.Low,DJ_df.High)\n",
    "Fix_Empty(DJ_df.High,DJ_df.Low)"
   ]
  },
  {
   "cell_type": "markdown",
   "metadata": {},
   "source": [
    "### See if I can fill Volume values.\n",
    "\n",
    "#### First check if it depends on day of week"
   ]
  },
  {
   "cell_type": "code",
   "execution_count": 19,
   "metadata": {},
   "outputs": [],
   "source": [
    "DJ_df[\"Date\"]=pd.to_datetime(DJ_df.Date)"
   ]
  },
  {
   "cell_type": "code",
   "execution_count": 20,
   "metadata": {},
   "outputs": [],
   "source": [
    "DJ_df[\"Day\"]= DJ_df.Date.dt.dayofweek"
   ]
  },
  {
   "cell_type": "code",
   "execution_count": 21,
   "metadata": {},
   "outputs": [
    {
     "data": {
      "text/html": [
       "<div>\n",
       "<style scoped>\n",
       "    .dataframe tbody tr th:only-of-type {\n",
       "        vertical-align: middle;\n",
       "    }\n",
       "\n",
       "    .dataframe tbody tr th {\n",
       "        vertical-align: top;\n",
       "    }\n",
       "\n",
       "    .dataframe thead th {\n",
       "        text-align: right;\n",
       "    }\n",
       "</style>\n",
       "<table border=\"1\" class=\"dataframe\">\n",
       "  <thead>\n",
       "    <tr style=\"text-align: right;\">\n",
       "      <th></th>\n",
       "      <th>Open</th>\n",
       "      <th>High</th>\n",
       "      <th>Low</th>\n",
       "      <th>Close</th>\n",
       "      <th>Volume</th>\n",
       "      <th>Adj Close</th>\n",
       "      <th>label</th>\n",
       "    </tr>\n",
       "    <tr>\n",
       "      <th>Day</th>\n",
       "      <th></th>\n",
       "      <th></th>\n",
       "      <th></th>\n",
       "      <th></th>\n",
       "      <th></th>\n",
       "      <th></th>\n",
       "      <th></th>\n",
       "    </tr>\n",
       "  </thead>\n",
       "  <tbody>\n",
       "    <tr>\n",
       "      <th>0</th>\n",
       "      <td>12437.833163</td>\n",
       "      <td>12513.411430</td>\n",
       "      <td>12355.820393</td>\n",
       "      <td>12436.518560</td>\n",
       "      <td>1.625482e+08</td>\n",
       "      <td>12435.284502</td>\n",
       "      <td>0.517483</td>\n",
       "    </tr>\n",
       "    <tr>\n",
       "      <th>1</th>\n",
       "      <td>12417.354156</td>\n",
       "      <td>12501.035144</td>\n",
       "      <td>12344.936150</td>\n",
       "      <td>12428.304926</td>\n",
       "      <td>1.684834e+08</td>\n",
       "      <td>12429.021946</td>\n",
       "      <td>0.442308</td>\n",
       "    </tr>\n",
       "    <tr>\n",
       "      <th>2</th>\n",
       "      <td>12407.497585</td>\n",
       "      <td>12481.622062</td>\n",
       "      <td>12324.510406</td>\n",
       "      <td>12403.565340</td>\n",
       "      <td>1.701497e+08</td>\n",
       "      <td>12403.157605</td>\n",
       "      <td>0.470395</td>\n",
       "    </tr>\n",
       "    <tr>\n",
       "      <th>3</th>\n",
       "      <td>12458.057306</td>\n",
       "      <td>12542.140498</td>\n",
       "      <td>12368.747139</td>\n",
       "      <td>12464.906597</td>\n",
       "      <td>1.736726e+08</td>\n",
       "      <td>12462.917793</td>\n",
       "      <td>0.460265</td>\n",
       "    </tr>\n",
       "    <tr>\n",
       "      <th>4</th>\n",
       "      <td>12430.778254</td>\n",
       "      <td>12501.831344</td>\n",
       "      <td>12347.487754</td>\n",
       "      <td>12436.844788</td>\n",
       "      <td>2.035819e+08</td>\n",
       "      <td>12438.575091</td>\n",
       "      <td>0.404682</td>\n",
       "    </tr>\n",
       "  </tbody>\n",
       "</table>\n",
       "</div>"
      ],
      "text/plain": [
       "             Open          High           Low         Close        Volume  \\\n",
       "Day                                                                         \n",
       "0    12437.833163  12513.411430  12355.820393  12436.518560  1.625482e+08   \n",
       "1    12417.354156  12501.035144  12344.936150  12428.304926  1.684834e+08   \n",
       "2    12407.497585  12481.622062  12324.510406  12403.565340  1.701497e+08   \n",
       "3    12458.057306  12542.140498  12368.747139  12464.906597  1.736726e+08   \n",
       "4    12430.778254  12501.831344  12347.487754  12436.844788  2.035819e+08   \n",
       "\n",
       "        Adj Close     label  \n",
       "Day                          \n",
       "0    12435.284502  0.517483  \n",
       "1    12429.021946  0.442308  \n",
       "2    12403.157605  0.470395  \n",
       "3    12462.917793  0.460265  \n",
       "4    12438.575091  0.404682  "
      ]
     },
     "execution_count": 21,
     "metadata": {},
     "output_type": "execute_result"
    }
   ],
   "source": [
    "By_day_mean=DJ_df.groupby(by=\"Day\").mean()\n",
    "By_day_std=DJ_df.groupby(by=\"Day\").std()\n",
    "By_day_mean"
   ]
  },
  {
   "cell_type": "code",
   "execution_count": 22,
   "metadata": {},
   "outputs": [
    {
     "data": {
      "text/plain": [
       "<matplotlib.collections.PathCollection at 0x7fcf19459128>"
      ]
     },
     "execution_count": 22,
     "metadata": {},
     "output_type": "execute_result"
    },
    {
     "data": {
      "image/png": "[encoded data removed]",
      "text/plain": [
       "<Figure size 432x288 with 1 Axes>"
      ]
     },
     "metadata": {
      "needs_background": "light"
     },
     "output_type": "display_data"
    }
   ],
   "source": [
    "plt.scatter(np.arange(5),By_day_mean.Volume)\n",
    "plt.scatter(np.arange(5),By_day_std.Volume)"
   ]
  },
  {
   "cell_type": "markdown",
   "metadata": {},
   "source": [
    "##### Check if depends on Day of Month"
   ]
  },
  {
   "cell_type": "code",
   "execution_count": 23,
   "metadata": {},
   "outputs": [],
   "source": [
    "DJ_df[\"DayOfMonth\"]= DJ_df.Date.dt.day"
   ]
  },
  {
   "cell_type": "code",
   "execution_count": 24,
   "metadata": {},
   "outputs": [],
   "source": [
    "By_day_mean=DJ_df.groupby(by=\"DayOfMonth\").mean()\n",
    "By_day_std=DJ_df.groupby(by=\"DayOfMonth\").std()"
   ]
  },
  {
   "cell_type": "code",
   "execution_count": 25,
   "metadata": {},
   "outputs": [
    {
     "data": {
      "text/html": [
       "<div>\n",
       "<style scoped>\n",
       "    .dataframe tbody tr th:only-of-type {\n",
       "        vertical-align: middle;\n",
       "    }\n",
       "\n",
       "    .dataframe tbody tr th {\n",
       "        vertical-align: top;\n",
       "    }\n",
       "\n",
       "    .dataframe thead th {\n",
       "        text-align: right;\n",
       "    }\n",
       "</style>\n",
       "<table border=\"1\" class=\"dataframe\">\n",
       "  <thead>\n",
       "    <tr style=\"text-align: right;\">\n",
       "      <th></th>\n",
       "      <th>Open</th>\n",
       "      <th>High</th>\n",
       "      <th>Low</th>\n",
       "      <th>Close</th>\n",
       "      <th>Volume</th>\n",
       "      <th>Adj Close</th>\n",
       "      <th>label</th>\n",
       "      <th>Day</th>\n",
       "    </tr>\n",
       "    <tr>\n",
       "      <th>DayOfMonth</th>\n",
       "      <th></th>\n",
       "      <th></th>\n",
       "      <th></th>\n",
       "      <th></th>\n",
       "      <th></th>\n",
       "      <th></th>\n",
       "      <th></th>\n",
       "      <th></th>\n",
       "    </tr>\n",
       "  </thead>\n",
       "  <tbody>\n",
       "    <tr>\n",
       "      <th>1</th>\n",
       "      <td>12299.897858</td>\n",
       "      <td>12392.860083</td>\n",
       "      <td>12207.210529</td>\n",
       "      <td>12288.227352</td>\n",
       "      <td>1.636680e+08</td>\n",
       "      <td>12291.551134</td>\n",
       "      <td>0.380952</td>\n",
       "      <td>1.978723</td>\n",
       "    </tr>\n",
       "    <tr>\n",
       "      <th>2</th>\n",
       "      <td>12249.992022</td>\n",
       "      <td>12327.070192</td>\n",
       "      <td>12169.269356</td>\n",
       "      <td>12251.738461</td>\n",
       "      <td>1.678667e+08</td>\n",
       "      <td>12251.302734</td>\n",
       "      <td>0.520833</td>\n",
       "      <td>2.000000</td>\n",
       "    </tr>\n",
       "    <tr>\n",
       "      <th>3</th>\n",
       "      <td>12513.834011</td>\n",
       "      <td>12600.157549</td>\n",
       "      <td>12442.432692</td>\n",
       "      <td>12537.553494</td>\n",
       "      <td>1.638906e+08</td>\n",
       "      <td>12534.035257</td>\n",
       "      <td>0.431373</td>\n",
       "      <td>2.000000</td>\n",
       "    </tr>\n",
       "    <tr>\n",
       "      <th>4</th>\n",
       "      <td>12391.974726</td>\n",
       "      <td>12468.688695</td>\n",
       "      <td>12292.533926</td>\n",
       "      <td>12386.423827</td>\n",
       "      <td>1.727244e+08</td>\n",
       "      <td>12379.506034</td>\n",
       "      <td>0.437500</td>\n",
       "      <td>2.020000</td>\n",
       "    </tr>\n",
       "    <tr>\n",
       "      <th>5</th>\n",
       "      <td>12464.966657</td>\n",
       "      <td>12525.249937</td>\n",
       "      <td>12367.286195</td>\n",
       "      <td>12469.039871</td>\n",
       "      <td>1.705065e+08</td>\n",
       "      <td>12469.191249</td>\n",
       "      <td>0.458333</td>\n",
       "      <td>2.137255</td>\n",
       "    </tr>\n",
       "    <tr>\n",
       "      <th>6</th>\n",
       "      <td>12468.543134</td>\n",
       "      <td>12546.467830</td>\n",
       "      <td>12361.850956</td>\n",
       "      <td>12474.036307</td>\n",
       "      <td>1.865053e+08</td>\n",
       "      <td>12473.678775</td>\n",
       "      <td>0.400000</td>\n",
       "      <td>2.019608</td>\n",
       "    </tr>\n",
       "    <tr>\n",
       "      <th>7</th>\n",
       "      <td>12635.465855</td>\n",
       "      <td>12708.972757</td>\n",
       "      <td>12543.852434</td>\n",
       "      <td>12619.656879</td>\n",
       "      <td>1.658362e+08</td>\n",
       "      <td>12619.720440</td>\n",
       "      <td>0.540000</td>\n",
       "      <td>2.019231</td>\n",
       "    </tr>\n",
       "    <tr>\n",
       "      <th>8</th>\n",
       "      <td>12348.748740</td>\n",
       "      <td>12421.348163</td>\n",
       "      <td>12266.906244</td>\n",
       "      <td>12359.946803</td>\n",
       "      <td>1.739656e+08</td>\n",
       "      <td>12362.101734</td>\n",
       "      <td>0.365385</td>\n",
       "      <td>1.981481</td>\n",
       "    </tr>\n",
       "    <tr>\n",
       "      <th>9</th>\n",
       "      <td>12247.493083</td>\n",
       "      <td>12322.349914</td>\n",
       "      <td>12163.216274</td>\n",
       "      <td>12239.009784</td>\n",
       "      <td>1.570834e+08</td>\n",
       "      <td>12237.154380</td>\n",
       "      <td>0.442308</td>\n",
       "      <td>1.962963</td>\n",
       "    </tr>\n",
       "    <tr>\n",
       "      <th>10</th>\n",
       "      <td>12508.994775</td>\n",
       "      <td>12586.659696</td>\n",
       "      <td>12410.474477</td>\n",
       "      <td>12494.066374</td>\n",
       "      <td>1.783566e+08</td>\n",
       "      <td>12511.847801</td>\n",
       "      <td>0.471698</td>\n",
       "      <td>1.962963</td>\n",
       "    </tr>\n",
       "    <tr>\n",
       "      <th>11</th>\n",
       "      <td>12561.537678</td>\n",
       "      <td>12638.535475</td>\n",
       "      <td>12495.305211</td>\n",
       "      <td>12569.905629</td>\n",
       "      <td>1.627020e+08</td>\n",
       "      <td>12569.047914</td>\n",
       "      <td>0.415094</td>\n",
       "      <td>2.000000</td>\n",
       "    </tr>\n",
       "    <tr>\n",
       "      <th>12</th>\n",
       "      <td>12412.520648</td>\n",
       "      <td>12476.634384</td>\n",
       "      <td>12330.504346</td>\n",
       "      <td>12415.028329</td>\n",
       "      <td>1.605826e+08</td>\n",
       "      <td>12416.243497</td>\n",
       "      <td>0.529412</td>\n",
       "      <td>2.037037</td>\n",
       "    </tr>\n",
       "    <tr>\n",
       "      <th>13</th>\n",
       "      <td>12413.733136</td>\n",
       "      <td>12512.381720</td>\n",
       "      <td>12349.076597</td>\n",
       "      <td>12444.579256</td>\n",
       "      <td>1.692269e+08</td>\n",
       "      <td>12449.774517</td>\n",
       "      <td>0.442308</td>\n",
       "      <td>2.018519</td>\n",
       "    </tr>\n",
       "    <tr>\n",
       "      <th>14</th>\n",
       "      <td>12579.477640</td>\n",
       "      <td>12654.366285</td>\n",
       "      <td>12504.475382</td>\n",
       "      <td>12576.679673</td>\n",
       "      <td>1.627889e+08</td>\n",
       "      <td>12582.929600</td>\n",
       "      <td>0.458333</td>\n",
       "      <td>2.000000</td>\n",
       "    </tr>\n",
       "    <tr>\n",
       "      <th>15</th>\n",
       "      <td>12422.110045</td>\n",
       "      <td>12482.242086</td>\n",
       "      <td>12311.657475</td>\n",
       "      <td>12393.748188</td>\n",
       "      <td>1.940694e+08</td>\n",
       "      <td>12397.684395</td>\n",
       "      <td>0.480000</td>\n",
       "      <td>2.018868</td>\n",
       "    </tr>\n",
       "    <tr>\n",
       "      <th>16</th>\n",
       "      <td>12322.541948</td>\n",
       "      <td>12414.234431</td>\n",
       "      <td>12250.641348</td>\n",
       "      <td>12355.776517</td>\n",
       "      <td>1.990916e+08</td>\n",
       "      <td>12351.037827</td>\n",
       "      <td>0.420000</td>\n",
       "      <td>2.038462</td>\n",
       "    </tr>\n",
       "    <tr>\n",
       "      <th>17</th>\n",
       "      <td>12417.534483</td>\n",
       "      <td>12494.599025</td>\n",
       "      <td>12334.633110</td>\n",
       "      <td>12413.951037</td>\n",
       "      <td>1.947396e+08</td>\n",
       "      <td>12411.572625</td>\n",
       "      <td>0.384615</td>\n",
       "      <td>2.075472</td>\n",
       "    </tr>\n",
       "    <tr>\n",
       "      <th>18</th>\n",
       "      <td>12516.297852</td>\n",
       "      <td>12612.637946</td>\n",
       "      <td>12446.953864</td>\n",
       "      <td>12565.186961</td>\n",
       "      <td>2.020908e+08</td>\n",
       "      <td>12556.079397</td>\n",
       "      <td>0.244898</td>\n",
       "      <td>2.038462</td>\n",
       "    </tr>\n",
       "    <tr>\n",
       "      <th>19</th>\n",
       "      <td>12532.498931</td>\n",
       "      <td>12603.499825</td>\n",
       "      <td>12445.385664</td>\n",
       "      <td>12520.364871</td>\n",
       "      <td>2.084222e+08</td>\n",
       "      <td>12514.080823</td>\n",
       "      <td>0.541667</td>\n",
       "      <td>2.075472</td>\n",
       "    </tr>\n",
       "    <tr>\n",
       "      <th>20</th>\n",
       "      <td>12385.415031</td>\n",
       "      <td>12447.536410</td>\n",
       "      <td>12292.258602</td>\n",
       "      <td>12369.997097</td>\n",
       "      <td>2.100362e+08</td>\n",
       "      <td>12364.640075</td>\n",
       "      <td>0.500000</td>\n",
       "      <td>2.096154</td>\n",
       "    </tr>\n",
       "    <tr>\n",
       "      <th>21</th>\n",
       "      <td>12476.411364</td>\n",
       "      <td>12556.355264</td>\n",
       "      <td>12382.173753</td>\n",
       "      <td>12481.717408</td>\n",
       "      <td>1.960239e+08</td>\n",
       "      <td>12481.660186</td>\n",
       "      <td>0.437500</td>\n",
       "      <td>2.039216</td>\n",
       "    </tr>\n",
       "    <tr>\n",
       "      <th>22</th>\n",
       "      <td>12384.790138</td>\n",
       "      <td>12444.226768</td>\n",
       "      <td>12298.543486</td>\n",
       "      <td>12355.372619</td>\n",
       "      <td>1.690573e+08</td>\n",
       "      <td>12355.057753</td>\n",
       "      <td>0.562500</td>\n",
       "      <td>1.923077</td>\n",
       "    </tr>\n",
       "    <tr>\n",
       "      <th>23</th>\n",
       "      <td>12266.241186</td>\n",
       "      <td>12336.322314</td>\n",
       "      <td>12168.659641</td>\n",
       "      <td>12251.052240</td>\n",
       "      <td>1.725716e+08</td>\n",
       "      <td>12263.830203</td>\n",
       "      <td>0.519231</td>\n",
       "      <td>1.962963</td>\n",
       "    </tr>\n",
       "    <tr>\n",
       "      <th>24</th>\n",
       "      <td>12390.919800</td>\n",
       "      <td>12467.747847</td>\n",
       "      <td>12318.747475</td>\n",
       "      <td>12398.263940</td>\n",
       "      <td>1.683877e+08</td>\n",
       "      <td>12400.280817</td>\n",
       "      <td>0.531915</td>\n",
       "      <td>1.980769</td>\n",
       "    </tr>\n",
       "    <tr>\n",
       "      <th>25</th>\n",
       "      <td>12627.561563</td>\n",
       "      <td>12701.313513</td>\n",
       "      <td>12545.052156</td>\n",
       "      <td>12620.108510</td>\n",
       "      <td>1.679480e+08</td>\n",
       "      <td>12615.671252</td>\n",
       "      <td>0.466667</td>\n",
       "      <td>2.000000</td>\n",
       "    </tr>\n",
       "    <tr>\n",
       "      <th>26</th>\n",
       "      <td>12268.902341</td>\n",
       "      <td>12363.191567</td>\n",
       "      <td>12217.783015</td>\n",
       "      <td>12308.692659</td>\n",
       "      <td>1.646827e+08</td>\n",
       "      <td>12310.854081</td>\n",
       "      <td>0.297872</td>\n",
       "      <td>2.100000</td>\n",
       "    </tr>\n",
       "    <tr>\n",
       "      <th>27</th>\n",
       "      <td>12406.331776</td>\n",
       "      <td>12484.890443</td>\n",
       "      <td>12336.712173</td>\n",
       "      <td>12413.460558</td>\n",
       "      <td>1.693321e+08</td>\n",
       "      <td>12421.940834</td>\n",
       "      <td>0.469388</td>\n",
       "      <td>2.019608</td>\n",
       "    </tr>\n",
       "    <tr>\n",
       "      <th>28</th>\n",
       "      <td>12440.504356</td>\n",
       "      <td>12532.373233</td>\n",
       "      <td>12381.649257</td>\n",
       "      <td>12473.253313</td>\n",
       "      <td>1.607156e+08</td>\n",
       "      <td>12474.456014</td>\n",
       "      <td>0.480000</td>\n",
       "      <td>1.980392</td>\n",
       "    </tr>\n",
       "    <tr>\n",
       "      <th>29</th>\n",
       "      <td>12367.925796</td>\n",
       "      <td>12451.060873</td>\n",
       "      <td>12300.631511</td>\n",
       "      <td>12384.859816</td>\n",
       "      <td>1.652352e+08</td>\n",
       "      <td>12368.137254</td>\n",
       "      <td>0.478261</td>\n",
       "      <td>2.000000</td>\n",
       "    </tr>\n",
       "    <tr>\n",
       "      <th>30</th>\n",
       "      <td>12431.130825</td>\n",
       "      <td>12508.400928</td>\n",
       "      <td>12349.434479</td>\n",
       "      <td>12438.138235</td>\n",
       "      <td>1.680598e+08</td>\n",
       "      <td>12426.955891</td>\n",
       "      <td>0.622222</td>\n",
       "      <td>2.062500</td>\n",
       "    </tr>\n",
       "    <tr>\n",
       "      <th>31</th>\n",
       "      <td>12674.005230</td>\n",
       "      <td>12764.700803</td>\n",
       "      <td>12609.695774</td>\n",
       "      <td>12677.242053</td>\n",
       "      <td>1.807304e+08</td>\n",
       "      <td>12673.113361</td>\n",
       "      <td>0.517241</td>\n",
       "      <td>2.137931</td>\n",
       "    </tr>\n",
       "  </tbody>\n",
       "</table>\n",
       "</div>"
      ],
      "text/plain": [
       "                    Open          High           Low         Close  \\\n",
       "DayOfMonth                                                           \n",
       "1           12299.897858  12392.860083  12207.210529  12288.227352   \n",
       "2           12249.992022  12327.070192  12169.269356  12251.738461   \n",
       "3           12513.834011  12600.157549  12442.432692  12537.553494   \n",
       "4           12391.974726  12468.688695  12292.533926  12386.423827   \n",
       "5           12464.966657  12525.249937  12367.286195  12469.039871   \n",
       "6           12468.543134  12546.467830  12361.850956  12474.036307   \n",
       "7           12635.465855  12708.972757  12543.852434  12619.656879   \n",
       "8           12348.748740  12421.348163  12266.906244  12359.946803   \n",
       "9           12247.493083  12322.349914  12163.216274  12239.009784   \n",
       "10          12508.994775  12586.659696  12410.474477  12494.066374   \n",
       "11          12561.537678  12638.535475  12495.305211  12569.905629   \n",
       "12          12412.520648  12476.634384  12330.504346  12415.028329   \n",
       "13          12413.733136  12512.381720  12349.076597  12444.579256   \n",
       "14          12579.477640  12654.366285  12504.475382  12576.679673   \n",
       "15          12422.110045  12482.242086  12311.657475  12393.748188   \n",
       "16          12322.541948  12414.234431  12250.641348  12355.776517   \n",
       "17          12417.534483  12494.599025  12334.633110  12413.951037   \n",
       "18          12516.297852  12612.637946  12446.953864  12565.186961   \n",
       "19          12532.498931  12603.499825  12445.385664  12520.364871   \n",
       "20          12385.415031  12447.536410  12292.258602  12369.997097   \n",
       "21          12476.411364  12556.355264  12382.173753  12481.717408   \n",
       "22          12384.790138  12444.226768  12298.543486  12355.372619   \n",
       "23          12266.241186  12336.322314  12168.659641  12251.052240   \n",
       "24          12390.919800  12467.747847  12318.747475  12398.263940   \n",
       "25          12627.561563  12701.313513  12545.052156  12620.108510   \n",
       "26          12268.902341  12363.191567  12217.783015  12308.692659   \n",
       "27          12406.331776  12484.890443  12336.712173  12413.460558   \n",
       "28          12440.504356  12532.373233  12381.649257  12473.253313   \n",
       "29          12367.925796  12451.060873  12300.631511  12384.859816   \n",
       "30          12431.130825  12508.400928  12349.434479  12438.138235   \n",
       "31          12674.005230  12764.700803  12609.695774  12677.242053   \n",
       "\n",
       "                  Volume     Adj Close     label       Day  \n",
       "DayOfMonth                                                  \n",
       "1           1.636680e+08  12291.551134  0.380952  1.978723  \n",
       "2           1.678667e+08  12251.302734  0.520833  2.000000  \n",
       "3           1.638906e+08  12534.035257  0.431373  2.000000  \n",
       "4           1.727244e+08  12379.506034  0.437500  2.020000  \n",
       "5           1.705065e+08  12469.191249  0.458333  2.137255  \n",
       "6           1.865053e+08  12473.678775  0.400000  2.019608  \n",
       "7           1.658362e+08  12619.720440  0.540000  2.019231  \n",
       "8           1.739656e+08  12362.101734  0.365385  1.981481  \n",
       "9           1.570834e+08  12237.154380  0.442308  1.962963  \n",
       "10          1.783566e+08  12511.847801  0.471698  1.962963  \n",
       "11          1.627020e+08  12569.047914  0.415094  2.000000  \n",
       "12          1.605826e+08  12416.243497  0.529412  2.037037  \n",
       "13          1.692269e+08  12449.774517  0.442308  2.018519  \n",
       "14          1.627889e+08  12582.929600  0.458333  2.000000  \n",
       "15          1.940694e+08  12397.684395  0.480000  2.018868  \n",
       "16          1.990916e+08  12351.037827  0.420000  2.038462  \n",
       "17          1.947396e+08  12411.572625  0.384615  2.075472  \n",
       "18          2.020908e+08  12556.079397  0.244898  2.038462  \n",
       "19          2.084222e+08  12514.080823  0.541667  2.075472  \n",
       "20          2.100362e+08  12364.640075  0.500000  2.096154  \n",
       "21          1.960239e+08  12481.660186  0.437500  2.039216  \n",
       "22          1.690573e+08  12355.057753  0.562500  1.923077  \n",
       "23          1.725716e+08  12263.830203  0.519231  1.962963  \n",
       "24          1.683877e+08  12400.280817  0.531915  1.980769  \n",
       "25          1.679480e+08  12615.671252  0.466667  2.000000  \n",
       "26          1.646827e+08  12310.854081  0.297872  2.100000  \n",
       "27          1.693321e+08  12421.940834  0.469388  2.019608  \n",
       "28          1.607156e+08  12474.456014  0.480000  1.980392  \n",
       "29          1.652352e+08  12368.137254  0.478261  2.000000  \n",
       "30          1.680598e+08  12426.955891  0.622222  2.062500  \n",
       "31          1.807304e+08  12673.113361  0.517241  2.137931  "
      ]
     },
     "execution_count": 25,
     "metadata": {},
     "output_type": "execute_result"
    }
   ],
   "source": [
    "By_day_mean"
   ]
  },
  {
   "cell_type": "code",
   "execution_count": 26,
   "metadata": {},
   "outputs": [
    {
     "data": {
      "text/plain": [
       "<matplotlib.collections.PathCollection at 0x7fcf189c2cc0>"
      ]
     },
     "execution_count": 26,
     "metadata": {},
     "output_type": "execute_result"
    },
    {
     "data": {
      "image/png": "[encoded data removed]",
      "text/plain": [
       "<Figure size 432x288 with 1 Axes>"
      ]
     },
     "metadata": {
      "needs_background": "light"
     },
     "output_type": "display_data"
    }
   ],
   "source": [
    "plt.scatter(np.arange(1,32),By_day_mean.Volume)\n",
    "plt.scatter(np.arange(1,32),By_day_std.Volume)"
   ]
  },
  {
   "cell_type": "markdown",
   "metadata": {},
   "source": [
    "### check if Volume depends on Volume the day before"
   ]
  },
  {
   "cell_type": "code",
   "execution_count": 27,
   "metadata": {},
   "outputs": [
    {
     "data": {
      "text/plain": [
       "<matplotlib.collections.PathCollection at 0x7fcf1898b8d0>"
      ]
     },
     "execution_count": 27,
     "metadata": {},
     "output_type": "execute_result"
    },
    {
     "data": {
      "image/png": "[encoded data removed]",
      "text/plain": [
       "<Figure size 432x288 with 1 Axes>"
      ]
     },
     "metadata": {
      "needs_background": "light"
     },
     "output_type": "display_data"
    }
   ],
   "source": [
    "laggedVol= DJ_df.Volume.shift(-1)\n",
    "plt.scatter(laggedVol, DJ_df.Volume)"
   ]
  },
  {
   "cell_type": "code",
   "execution_count": 28,
   "metadata": {},
   "outputs": [
    {
     "data": {
      "text/plain": [
       "nan"
      ]
     },
     "execution_count": 28,
     "metadata": {},
     "output_type": "execute_result"
    }
   ],
   "source": [
    "laggedVol[0]"
   ]
  },
  {
   "cell_type": "code",
   "execution_count": 29,
   "metadata": {},
   "outputs": [],
   "source": [
    "DJ_df[\"Lag_Vol\"]=DJ_df.Volume.shift(-1)"
   ]
  },
  {
   "cell_type": "code",
   "execution_count": 30,
   "metadata": {},
   "outputs": [
    {
     "name": "stderr",
     "output_type": "stream",
     "text": [
      "/home/edith/.local/lib/python3.6/site-packages/pandas/core/indexing.py:190: SettingWithCopyWarning: \n",
      "A value is trying to be set on a copy of a slice from a DataFrame\n",
      "\n",
      "See the caveats in the documentation: http://pandas.pydata.org/pandas-docs/stable/indexing.html#indexing-view-versus-copy\n",
      "  self._setitem_with_indexer(indexer, value)\n"
     ]
    }
   ],
   "source": [
    "DJ_df.Lag_Vol.loc[0]=DJ_df.Lag_Vol.loc[1]"
   ]
  },
  {
   "cell_type": "code",
   "execution_count": 31,
   "metadata": {},
   "outputs": [],
   "source": [
    "DJ_df.to_csv(mydir+\"Clead_DJ\")"
   ]
  },
  {
   "cell_type": "code",
   "execution_count": 32,
   "metadata": {},
   "outputs": [],
   "source": [
    "DJ_df = pd.read_csv(mydir+\"Clead_DJ\", parse_dates=True)"
   ]
  },
  {
   "cell_type": "code",
   "execution_count": 33,
   "metadata": {},
   "outputs": [
    {
     "data": {
      "text/html": [
       "<div>\n",
       "<style scoped>\n",
       "    .dataframe tbody tr th:only-of-type {\n",
       "        vertical-align: middle;\n",
       "    }\n",
       "\n",
       "    .dataframe tbody tr th {\n",
       "        vertical-align: top;\n",
       "    }\n",
       "\n",
       "    .dataframe thead th {\n",
       "        text-align: right;\n",
       "    }\n",
       "</style>\n",
       "<table border=\"1\" class=\"dataframe\">\n",
       "  <thead>\n",
       "    <tr style=\"text-align: right;\">\n",
       "      <th></th>\n",
       "      <th>Date</th>\n",
       "      <th>Open</th>\n",
       "      <th>High</th>\n",
       "      <th>Low</th>\n",
       "      <th>Close</th>\n",
       "      <th>Volume</th>\n",
       "      <th>Adj Close</th>\n",
       "      <th>label</th>\n",
       "      <th>Day</th>\n",
       "      <th>DayOfMonth</th>\n",
       "      <th>Lag_Vol</th>\n",
       "    </tr>\n",
       "  </thead>\n",
       "  <tbody>\n",
       "    <tr>\n",
       "      <th>0</th>\n",
       "      <td>2008-08-08</td>\n",
       "      <td>11432.089844</td>\n",
       "      <td>11515.575801</td>\n",
       "      <td>11388.040039</td>\n",
       "      <td>11734.320312</td>\n",
       "      <td>212830000.0</td>\n",
       "      <td>11734.320312</td>\n",
       "      <td>0.0</td>\n",
       "      <td>4</td>\n",
       "      <td>8</td>\n",
       "      <td>173590000.0</td>\n",
       "    </tr>\n",
       "    <tr>\n",
       "      <th>1</th>\n",
       "      <td>2008-08-11</td>\n",
       "      <td>11729.669922</td>\n",
       "      <td>11867.110352</td>\n",
       "      <td>11675.530273</td>\n",
       "      <td>11782.349609</td>\n",
       "      <td>NaN</td>\n",
       "      <td>11782.349609</td>\n",
       "      <td>0.0</td>\n",
       "      <td>0</td>\n",
       "      <td>11</td>\n",
       "      <td>173590000.0</td>\n",
       "    </tr>\n",
       "    <tr>\n",
       "      <th>2</th>\n",
       "      <td>2008-08-12</td>\n",
       "      <td>11781.700195</td>\n",
       "      <td>11782.349609</td>\n",
       "      <td>11601.519531</td>\n",
       "      <td>11642.469727</td>\n",
       "      <td>173590000.0</td>\n",
       "      <td>11642.469727</td>\n",
       "      <td>1.0</td>\n",
       "      <td>1</td>\n",
       "      <td>12</td>\n",
       "      <td>182550000.0</td>\n",
       "    </tr>\n",
       "    <tr>\n",
       "      <th>3</th>\n",
       "      <td>2008-08-13</td>\n",
       "      <td>11632.809570</td>\n",
       "      <td>11633.780273</td>\n",
       "      <td>11453.339844</td>\n",
       "      <td>11532.959961</td>\n",
       "      <td>182550000.0</td>\n",
       "      <td>11532.959961</td>\n",
       "      <td>1.0</td>\n",
       "      <td>2</td>\n",
       "      <td>13</td>\n",
       "      <td>159790000.0</td>\n",
       "    </tr>\n",
       "    <tr>\n",
       "      <th>4</th>\n",
       "      <td>2008-08-14</td>\n",
       "      <td>11532.070312</td>\n",
       "      <td>11718.280273</td>\n",
       "      <td>11450.889648</td>\n",
       "      <td>11615.929688</td>\n",
       "      <td>159790000.0</td>\n",
       "      <td>11615.929688</td>\n",
       "      <td>NaN</td>\n",
       "      <td>3</td>\n",
       "      <td>14</td>\n",
       "      <td>215040000.0</td>\n",
       "    </tr>\n",
       "  </tbody>\n",
       "</table>\n",
       "</div>"
      ],
      "text/plain": [
       "         Date          Open          High           Low         Close  \\\n",
       "0  2008-08-08  11432.089844  11515.575801  11388.040039  11734.320312   \n",
       "1  2008-08-11  11729.669922  11867.110352  11675.530273  11782.349609   \n",
       "2  2008-08-12  11781.700195  11782.349609  11601.519531  11642.469727   \n",
       "3  2008-08-13  11632.809570  11633.780273  11453.339844  11532.959961   \n",
       "4  2008-08-14  11532.070312  11718.280273  11450.889648  11615.929688   \n",
       "\n",
       "        Volume     Adj Close  label  Day  DayOfMonth      Lag_Vol  \n",
       "0  212830000.0  11734.320312    0.0    4           8  173590000.0  \n",
       "1          NaN  11782.349609    0.0    0          11  173590000.0  \n",
       "2  173590000.0  11642.469727    1.0    1          12  182550000.0  \n",
       "3  182550000.0  11532.959961    1.0    2          13  159790000.0  \n",
       "4  159790000.0  11615.929688    NaN    3          14  215040000.0  "
      ]
     },
     "execution_count": 33,
     "metadata": {},
     "output_type": "execute_result"
    }
   ],
   "source": [
    "DJ_df.drop(columns=\"Unnamed: 0\",inplace=True)\n",
    "DJ_df.head()"
   ]
  },
  {
   "cell_type": "code",
   "execution_count": 34,
   "metadata": {},
   "outputs": [
    {
     "data": {
      "text/plain": [
       "92"
      ]
     },
     "execution_count": 34,
     "metadata": {},
     "output_type": "execute_result"
    }
   ],
   "source": [
    "train_idx2 = DJ_df.index[DJ_df.Lag_Vol.apply(np.isnan)].to_list()\n",
    "len(train_idx2)"
   ]
  },
  {
   "cell_type": "code",
   "execution_count": 35,
   "metadata": {},
   "outputs": [],
   "source": [
    "a=DJ_df.Volume.shift(-2)\n",
    "DJ_df.loc[train_idx2,'Lag_Vol']=a[train_idx2]"
   ]
  },
  {
   "cell_type": "code",
   "execution_count": 36,
   "metadata": {},
   "outputs": [
    {
     "data": {
      "text/plain": [
       "6"
      ]
     },
     "execution_count": 36,
     "metadata": {},
     "output_type": "execute_result"
    }
   ],
   "source": [
    "train_idx2 = DJ_df.index[DJ_df.Lag_Vol.apply(np.isnan)].to_list()\n",
    "len(train_idx2)"
   ]
  },
  {
   "cell_type": "code",
   "execution_count": 37,
   "metadata": {},
   "outputs": [],
   "source": [
    "a=DJ_df.Volume.shift(-3)\n",
    "DJ_df.loc[train_idx2,'Lag_Vol']=a[train_idx2]"
   ]
  },
  {
   "cell_type": "code",
   "execution_count": 38,
   "metadata": {},
   "outputs": [
    {
     "data": {
      "text/plain": [
       "1"
      ]
     },
     "execution_count": 38,
     "metadata": {},
     "output_type": "execute_result"
    }
   ],
   "source": [
    "train_idx2 = DJ_df.index[DJ_df.Lag_Vol.apply(np.isnan)].to_list()\n",
    "len(train_idx2)"
   ]
  },
  {
   "cell_type": "code",
   "execution_count": 39,
   "metadata": {},
   "outputs": [
    {
     "data": {
      "text/plain": [
       "[1583]"
      ]
     },
     "execution_count": 39,
     "metadata": {},
     "output_type": "execute_result"
    }
   ],
   "source": [
    "a=DJ_df.Volume.shift(-4)\n",
    "DJ_df.loc[train_idx2,'Lag_Vol']=a[train_idx2]\n",
    "train_idx2 = DJ_df.index[DJ_df.Lag_Vol.apply(np.isnan)].to_list()\n",
    "train_idx2"
   ]
  },
  {
   "cell_type": "code",
   "execution_count": 40,
   "metadata": {},
   "outputs": [
    {
     "name": "stderr",
     "output_type": "stream",
     "text": [
      "/home/edith/anaconda3/lib/python3.6/site-packages/ipykernel_launcher.py:1: SettingWithCopyWarning: \n",
      "A value is trying to be set on a copy of a slice from a DataFrame\n",
      "\n",
      "See the caveats in the documentation: http://pandas.pydata.org/pandas-docs/stable/indexing.html#indexing-view-versus-copy\n",
      "  \"\"\"Entry point for launching an IPython kernel.\n"
     ]
    }
   ],
   "source": [
    "DJ_df.Lag_Vol[1583]=DJ_df.Lag_Vol[1582]"
   ]
  },
  {
   "cell_type": "code",
   "execution_count": 41,
   "metadata": {},
   "outputs": [],
   "source": [
    "DJ_df.to_csv(mydir+\"Clead_DJ\")"
   ]
  },
  {
   "cell_type": "code",
   "execution_count": 42,
   "metadata": {},
   "outputs": [
    {
     "data": {
      "text/html": [
       "<div>\n",
       "<style scoped>\n",
       "    .dataframe tbody tr th:only-of-type {\n",
       "        vertical-align: middle;\n",
       "    }\n",
       "\n",
       "    .dataframe tbody tr th {\n",
       "        vertical-align: top;\n",
       "    }\n",
       "\n",
       "    .dataframe thead th {\n",
       "        text-align: right;\n",
       "    }\n",
       "</style>\n",
       "<table border=\"1\" class=\"dataframe\">\n",
       "  <thead>\n",
       "    <tr style=\"text-align: right;\">\n",
       "      <th></th>\n",
       "      <th>Date</th>\n",
       "      <th>Open</th>\n",
       "      <th>High</th>\n",
       "      <th>Low</th>\n",
       "      <th>Close</th>\n",
       "      <th>Volume</th>\n",
       "      <th>Adj Close</th>\n",
       "      <th>label</th>\n",
       "      <th>Day</th>\n",
       "      <th>DayOfMonth</th>\n",
       "      <th>Lag_Vol</th>\n",
       "    </tr>\n",
       "  </thead>\n",
       "  <tbody>\n",
       "    <tr>\n",
       "      <th>0</th>\n",
       "      <td>2008-08-08</td>\n",
       "      <td>11432.089844</td>\n",
       "      <td>11515.575801</td>\n",
       "      <td>11388.040039</td>\n",
       "      <td>11734.320312</td>\n",
       "      <td>212830000.0</td>\n",
       "      <td>11734.320312</td>\n",
       "      <td>0.0</td>\n",
       "      <td>4</td>\n",
       "      <td>8</td>\n",
       "      <td>173590000.0</td>\n",
       "    </tr>\n",
       "    <tr>\n",
       "      <th>1</th>\n",
       "      <td>2008-08-11</td>\n",
       "      <td>11729.669922</td>\n",
       "      <td>11867.110352</td>\n",
       "      <td>11675.530273</td>\n",
       "      <td>11782.349609</td>\n",
       "      <td>NaN</td>\n",
       "      <td>11782.349609</td>\n",
       "      <td>0.0</td>\n",
       "      <td>0</td>\n",
       "      <td>11</td>\n",
       "      <td>173590000.0</td>\n",
       "    </tr>\n",
       "    <tr>\n",
       "      <th>2</th>\n",
       "      <td>2008-08-12</td>\n",
       "      <td>11781.700195</td>\n",
       "      <td>11782.349609</td>\n",
       "      <td>11601.519531</td>\n",
       "      <td>11642.469727</td>\n",
       "      <td>173590000.0</td>\n",
       "      <td>11642.469727</td>\n",
       "      <td>1.0</td>\n",
       "      <td>1</td>\n",
       "      <td>12</td>\n",
       "      <td>182550000.0</td>\n",
       "    </tr>\n",
       "    <tr>\n",
       "      <th>3</th>\n",
       "      <td>2008-08-13</td>\n",
       "      <td>11632.809570</td>\n",
       "      <td>11633.780273</td>\n",
       "      <td>11453.339844</td>\n",
       "      <td>11532.959961</td>\n",
       "      <td>182550000.0</td>\n",
       "      <td>11532.959961</td>\n",
       "      <td>1.0</td>\n",
       "      <td>2</td>\n",
       "      <td>13</td>\n",
       "      <td>159790000.0</td>\n",
       "    </tr>\n",
       "    <tr>\n",
       "      <th>4</th>\n",
       "      <td>2008-08-14</td>\n",
       "      <td>11532.070312</td>\n",
       "      <td>11718.280273</td>\n",
       "      <td>11450.889648</td>\n",
       "      <td>11615.929688</td>\n",
       "      <td>159790000.0</td>\n",
       "      <td>11615.929688</td>\n",
       "      <td>NaN</td>\n",
       "      <td>3</td>\n",
       "      <td>14</td>\n",
       "      <td>215040000.0</td>\n",
       "    </tr>\n",
       "  </tbody>\n",
       "</table>\n",
       "</div>"
      ],
      "text/plain": [
       "         Date          Open          High           Low         Close  \\\n",
       "0  2008-08-08  11432.089844  11515.575801  11388.040039  11734.320312   \n",
       "1  2008-08-11  11729.669922  11867.110352  11675.530273  11782.349609   \n",
       "2  2008-08-12  11781.700195  11782.349609  11601.519531  11642.469727   \n",
       "3  2008-08-13  11632.809570  11633.780273  11453.339844  11532.959961   \n",
       "4  2008-08-14  11532.070312  11718.280273  11450.889648  11615.929688   \n",
       "\n",
       "        Volume     Adj Close  label  Day  DayOfMonth      Lag_Vol  \n",
       "0  212830000.0  11734.320312    0.0    4           8  173590000.0  \n",
       "1          NaN  11782.349609    0.0    0          11  173590000.0  \n",
       "2  173590000.0  11642.469727    1.0    1          12  182550000.0  \n",
       "3  182550000.0  11532.959961    1.0    2          13  159790000.0  \n",
       "4  159790000.0  11615.929688    NaN    3          14  215040000.0  "
      ]
     },
     "execution_count": 42,
     "metadata": {},
     "output_type": "execute_result"
    }
   ],
   "source": [
    "DJ_df.head()"
   ]
  },
  {
   "cell_type": "code",
   "execution_count": null,
   "metadata": {},
   "outputs": [],
   "source": []
  },
  {
   "cell_type": "code",
   "execution_count": 43,
   "metadata": {},
   "outputs": [
    {
     "data": {
      "text/plain": [
       "False"
      ]
     },
     "execution_count": 43,
     "metadata": {},
     "output_type": "execute_result"
    }
   ],
   "source": [
    "DJ_df.Lag_Vol.isnull().any()"
   ]
  },
  {
   "cell_type": "markdown",
   "metadata": {},
   "source": [
    "### Random Forest for estimating missing Volume Values"
   ]
  },
  {
   "cell_type": "code",
   "execution_count": 44,
   "metadata": {},
   "outputs": [],
   "source": [
    "train_idx = DJ_df.index[DJ_df.Volume.apply(np.isfinite)].to_list()\n",
    "\n",
    "\n",
    "test_idx = DJ_df.index[DJ_df.Volume.apply(np.isnan)].to_list()\n"
   ]
  },
  {
   "cell_type": "code",
   "execution_count": 45,
   "metadata": {},
   "outputs": [],
   "source": [
    "X_train = DJ_df.loc[train_idx,:]\n",
    "y_train = X_train.Volume\n",
    "X_train.drop(columns = 'Volume', inplace=True) \n",
    "X_train.drop(columns=[\"Date\",\"label\"],inplace=True)\n",
    "from sklearn.model_selection import train_test_split\n",
    "X_train, X_test, y_train, y_test = train_test_split(X_train, y_train, test_size=0.33, random_state=42)"
   ]
  },
  {
   "cell_type": "code",
   "execution_count": 46,
   "metadata": {},
   "outputs": [
    {
     "data": {
      "text/plain": [
       "0       84350000.0\n",
       "1      126810000.0\n",
       "2       88010000.0\n",
       "3      146950000.0\n",
       "4      108800000.0\n",
       "5      189670000.0\n",
       "6      219330000.0\n",
       "7      166920000.0\n",
       "8      202810000.0\n",
       "9      207100000.0\n",
       "10      62360000.0\n",
       "11     207060000.0\n",
       "12     130680000.0\n",
       "13      55500000.0\n",
       "14     350470000.0\n",
       "15     201890000.0\n",
       "16     141230000.0\n",
       "17     194470000.0\n",
       "18      94920000.0\n",
       "19     340740000.0\n",
       "20     256500000.0\n",
       "21     119610000.0\n",
       "22     308820000.0\n",
       "23     225620000.0\n",
       "24     166140000.0\n",
       "25     201410000.0\n",
       "26      87810000.0\n",
       "27     107830000.0\n",
       "28      76850000.0\n",
       "29     215420000.0\n",
       "          ...     \n",
       "463    138280000.0\n",
       "464    142600000.0\n",
       "465    268220000.0\n",
       "466    169990000.0\n",
       "467     52670000.0\n",
       "468    154360000.0\n",
       "469    124200000.0\n",
       "470     68210000.0\n",
       "471    135430000.0\n",
       "472    321300000.0\n",
       "473     89110000.0\n",
       "474    149860000.0\n",
       "475    188120000.0\n",
       "476    200850000.0\n",
       "477    105770000.0\n",
       "478    378620000.0\n",
       "479    143670000.0\n",
       "480    169940000.0\n",
       "481    308210000.0\n",
       "482    140510000.0\n",
       "483    111680000.0\n",
       "484     76820000.0\n",
       "485    240050000.0\n",
       "486    396300000.0\n",
       "487     87370000.0\n",
       "488     85430000.0\n",
       "489    122040000.0\n",
       "490     77130000.0\n",
       "491    114360000.0\n",
       "492    252160000.0\n",
       "Name: Volume, Length: 493, dtype: float64"
      ]
     },
     "execution_count": 46,
     "metadata": {},
     "output_type": "execute_result"
    }
   ],
   "source": [
    "X_train.reset_index(drop=True)\n",
    "X_test.reset_index(drop=True)\n",
    "\n",
    "y_train.reset_index(drop=True)\n",
    "y_test.reset_index(drop=True)"
   ]
  },
  {
   "cell_type": "code",
   "execution_count": 47,
   "metadata": {},
   "outputs": [
    {
     "data": {
      "text/plain": [
       "999"
      ]
     },
     "execution_count": 47,
     "metadata": {},
     "output_type": "execute_result"
    }
   ],
   "source": [
    "len(y_train)"
   ]
  },
  {
   "cell_type": "code",
   "execution_count": 48,
   "metadata": {},
   "outputs": [],
   "source": [
    "X_val = DJ_df.loc[test_idx,:]\n",
    "X_val.drop(columns=[\"Date\",\"label\"],inplace=True)\n",
    "y_val = X_val.Volume\n",
    "X_val.drop(columns = 'Volume', inplace=True) "
   ]
  },
  {
   "cell_type": "code",
   "execution_count": 49,
   "metadata": {},
   "outputs": [
    {
     "data": {
      "text/html": [
       "<div>\n",
       "<style scoped>\n",
       "    .dataframe tbody tr th:only-of-type {\n",
       "        vertical-align: middle;\n",
       "    }\n",
       "\n",
       "    .dataframe tbody tr th {\n",
       "        vertical-align: top;\n",
       "    }\n",
       "\n",
       "    .dataframe thead th {\n",
       "        text-align: right;\n",
       "    }\n",
       "</style>\n",
       "<table border=\"1\" class=\"dataframe\">\n",
       "  <thead>\n",
       "    <tr style=\"text-align: right;\">\n",
       "      <th></th>\n",
       "      <th>Open</th>\n",
       "      <th>High</th>\n",
       "      <th>Low</th>\n",
       "      <th>Close</th>\n",
       "      <th>Adj Close</th>\n",
       "      <th>Day</th>\n",
       "      <th>DayOfMonth</th>\n",
       "      <th>Lag_Vol</th>\n",
       "    </tr>\n",
       "  </thead>\n",
       "  <tbody>\n",
       "    <tr>\n",
       "      <th>1313</th>\n",
       "      <td>15523.719727</td>\n",
       "      <td>15570.599609</td>\n",
       "      <td>15512.959961</td>\n",
       "      <td>15570.280273</td>\n",
       "      <td>15570.280273</td>\n",
       "      <td>4</td>\n",
       "      <td>25</td>\n",
       "      <td>92760000.0</td>\n",
       "    </tr>\n",
       "    <tr>\n",
       "      <th>1134</th>\n",
       "      <td>13992.969727</td>\n",
       "      <td>13992.969727</td>\n",
       "      <td>13940.410156</td>\n",
       "      <td>13971.240234</td>\n",
       "      <td>13971.240234</td>\n",
       "      <td>0</td>\n",
       "      <td>11</td>\n",
       "      <td>117180000.0</td>\n",
       "    </tr>\n",
       "    <tr>\n",
       "      <th>459</th>\n",
       "      <td>9931.750000</td>\n",
       "      <td>9982.379883</td>\n",
       "      <td>9810.299805</td>\n",
       "      <td>9816.490234</td>\n",
       "      <td>9816.490234</td>\n",
       "      <td>0</td>\n",
       "      <td>7</td>\n",
       "      <td>259680000.0</td>\n",
       "    </tr>\n",
       "    <tr>\n",
       "      <th>614</th>\n",
       "      <td>11732.129883</td>\n",
       "      <td>11794.150391</td>\n",
       "      <td>11698.830078</td>\n",
       "      <td>11787.379883</td>\n",
       "      <td>11787.379883</td>\n",
       "      <td>4</td>\n",
       "      <td>14</td>\n",
       "      <td>203390000.0</td>\n",
       "    </tr>\n",
       "    <tr>\n",
       "      <th>954</th>\n",
       "      <td>12505.379883</td>\n",
       "      <td>12575.959961</td>\n",
       "      <td>12447.330078</td>\n",
       "      <td>12502.809570</td>\n",
       "      <td>12502.809570</td>\n",
       "      <td>1</td>\n",
       "      <td>22</td>\n",
       "      <td>152190000.0</td>\n",
       "    </tr>\n",
       "  </tbody>\n",
       "</table>\n",
       "</div>"
      ],
      "text/plain": [
       "              Open          High           Low         Close     Adj Close  \\\n",
       "1313  15523.719727  15570.599609  15512.959961  15570.280273  15570.280273   \n",
       "1134  13992.969727  13992.969727  13940.410156  13971.240234  13971.240234   \n",
       "459    9931.750000   9982.379883   9810.299805   9816.490234   9816.490234   \n",
       "614   11732.129883  11794.150391  11698.830078  11787.379883  11787.379883   \n",
       "954   12505.379883  12575.959961  12447.330078  12502.809570  12502.809570   \n",
       "\n",
       "      Day  DayOfMonth      Lag_Vol  \n",
       "1313    4          25   92760000.0  \n",
       "1134    0          11  117180000.0  \n",
       "459     0           7  259680000.0  \n",
       "614     4          14  203390000.0  \n",
       "954     1          22  152190000.0  "
      ]
     },
     "execution_count": 49,
     "metadata": {},
     "output_type": "execute_result"
    }
   ],
   "source": [
    "X_train.head()"
   ]
  },
  {
   "cell_type": "code",
   "execution_count": 50,
   "metadata": {},
   "outputs": [
    {
     "name": "stderr",
     "output_type": "stream",
     "text": [
      "/home/edith/anaconda3/lib/python3.6/site-packages/sklearn/ensemble/weight_boosting.py:29: DeprecationWarning: numpy.core.umath_tests is an internal NumPy module and should not be imported. It will be removed in a future NumPy release.\n",
      "  from numpy.core.umath_tests import inner1d\n",
      "[Parallel(n_jobs=1)]: Done 100 out of 100 | elapsed:    0.1s finished\n"
     ]
    },
    {
     "data": {
      "text/plain": [
       "RandomForestRegressor(bootstrap=True, criterion='mse', max_depth=3,\n",
       "           max_features='auto', max_leaf_nodes=None,\n",
       "           min_impurity_decrease=0.0, min_impurity_split=None,\n",
       "           min_samples_leaf=1, min_samples_split=2,\n",
       "           min_weight_fraction_leaf=0.0, n_estimators=100, n_jobs=1,\n",
       "           oob_score=False, random_state=42, verbose=1, warm_start=False)"
      ]
     },
     "execution_count": 50,
     "metadata": {},
     "output_type": "execute_result"
    }
   ],
   "source": [
    "from sklearn.ensemble import RandomForestRegressor\n",
    "regr = RandomForestRegressor(max_depth=3, random_state=42, n_estimators=100,verbose=1)\n",
    "regr.fit(X_train, y_train)  "
   ]
  },
  {
   "cell_type": "code",
   "execution_count": 51,
   "metadata": {},
   "outputs": [
    {
     "name": "stderr",
     "output_type": "stream",
     "text": [
      "[Parallel(n_jobs=1)]: Done 100 out of 100 | elapsed:    0.0s finished\n"
     ]
    }
   ],
   "source": [
    "yhat=regr.predict(X_train)"
   ]
  },
  {
   "cell_type": "code",
   "execution_count": 52,
   "metadata": {},
   "outputs": [
    {
     "data": {
      "text/plain": [
       "0.6974408054566376"
      ]
     },
     "execution_count": 52,
     "metadata": {},
     "output_type": "execute_result"
    }
   ],
   "source": [
    "from sklearn.metrics import r2_score\n",
    "train_score=r2_score(y_train, yhat)\n",
    "train_score"
   ]
  },
  {
   "cell_type": "code",
   "execution_count": 53,
   "metadata": {},
   "outputs": [
    {
     "name": "stderr",
     "output_type": "stream",
     "text": [
      "[Parallel(n_jobs=1)]: Done 100 out of 100 | elapsed:    0.0s finished\n"
     ]
    },
    {
     "data": {
      "text/plain": [
       "0.6413743316775062"
      ]
     },
     "execution_count": 53,
     "metadata": {},
     "output_type": "execute_result"
    }
   ],
   "source": [
    "yhat=regr.predict(X_test)\n",
    "test_score=r2_score(y_test, yhat)\n",
    "test_score"
   ]
  },
  {
   "cell_type": "code",
   "execution_count": 54,
   "metadata": {},
   "outputs": [
    {
     "data": {
      "text/plain": [
       "<matplotlib.collections.PathCollection at 0x7fced7267e10>"
      ]
     },
     "execution_count": 54,
     "metadata": {},
     "output_type": "execute_result"
    },
    {
     "data": {
      "image/png": "[encoded data removed]",
      "text/plain": [
       "<Figure size 432x288 with 1 Axes>"
      ]
     },
     "metadata": {
      "needs_background": "light"
     },
     "output_type": "display_data"
    }
   ],
   "source": [
    "plt.scatter(yhat.T,y_test.T)"
   ]
  },
  {
   "cell_type": "code",
   "execution_count": 55,
   "metadata": {},
   "outputs": [],
   "source": [
    "meanY=np.mean(y_train)\n",
    "yy=np.full_like(y_test,meanY)"
   ]
  },
  {
   "cell_type": "code",
   "execution_count": 56,
   "metadata": {},
   "outputs": [
    {
     "data": {
      "text/plain": [
       "-0.002139808628557338"
      ]
     },
     "execution_count": 56,
     "metadata": {},
     "output_type": "execute_result"
    }
   ],
   "source": [
    "r2_score(y_test, yy)\n",
    "  "
   ]
  },
  {
   "cell_type": "markdown",
   "metadata": {},
   "source": [
    "### random forest gives a r2_score on test of 0.64 while a naive average gives r2_score of -0.002 so random forest it is!"
   ]
  },
  {
   "cell_type": "code",
   "execution_count": 57,
   "metadata": {},
   "outputs": [
    {
     "name": "stderr",
     "output_type": "stream",
     "text": [
      "[Parallel(n_jobs=1)]: Done 100 out of 100 | elapsed:    0.0s finished\n"
     ]
    }
   ],
   "source": [
    "yhat=regr.predict(X_val)"
   ]
  },
  {
   "cell_type": "code",
   "execution_count": 58,
   "metadata": {},
   "outputs": [],
   "source": [
    "DJ_df.loc[test_idx,\"Volume\"]=yhat"
   ]
  },
  {
   "cell_type": "code",
   "execution_count": 59,
   "metadata": {},
   "outputs": [],
   "source": [
    "DJ_df.to_csv(mydir+\"Clead_DJ\")"
   ]
  },
  {
   "cell_type": "code",
   "execution_count": 60,
   "metadata": {},
   "outputs": [
    {
     "data": {
      "text/plain": [
       "Date          False\n",
       "Open          False\n",
       "High          False\n",
       "Low           False\n",
       "Close         False\n",
       "Volume        False\n",
       "Adj Close     False\n",
       "label          True\n",
       "Day           False\n",
       "DayOfMonth    False\n",
       "Lag_Vol       False\n",
       "dtype: bool"
      ]
     },
     "execution_count": 60,
     "metadata": {},
     "output_type": "execute_result"
    }
   ],
   "source": [
    "DJ_df.isnull().any()"
   ]
  },
  {
   "cell_type": "code",
   "execution_count": 61,
   "metadata": {},
   "outputs": [
    {
     "data": {
      "text/html": [
       "<div>\n",
       "<style scoped>\n",
       "    .dataframe tbody tr th:only-of-type {\n",
       "        vertical-align: middle;\n",
       "    }\n",
       "\n",
       "    .dataframe tbody tr th {\n",
       "        vertical-align: top;\n",
       "    }\n",
       "\n",
       "    .dataframe thead th {\n",
       "        text-align: right;\n",
       "    }\n",
       "</style>\n",
       "<table border=\"1\" class=\"dataframe\">\n",
       "  <thead>\n",
       "    <tr style=\"text-align: right;\">\n",
       "      <th></th>\n",
       "      <th>Date</th>\n",
       "      <th>Open</th>\n",
       "      <th>High</th>\n",
       "      <th>Low</th>\n",
       "      <th>Close</th>\n",
       "      <th>Volume</th>\n",
       "      <th>Adj Close</th>\n",
       "      <th>label</th>\n",
       "      <th>Day</th>\n",
       "      <th>DayOfMonth</th>\n",
       "      <th>Lag_Vol</th>\n",
       "    </tr>\n",
       "  </thead>\n",
       "  <tbody>\n",
       "    <tr>\n",
       "      <th>0</th>\n",
       "      <td>2008-08-08</td>\n",
       "      <td>11432.089844</td>\n",
       "      <td>11515.575801</td>\n",
       "      <td>11388.040039</td>\n",
       "      <td>11734.320312</td>\n",
       "      <td>2.128300e+08</td>\n",
       "      <td>11734.320312</td>\n",
       "      <td>0.0</td>\n",
       "      <td>4</td>\n",
       "      <td>8</td>\n",
       "      <td>173590000.0</td>\n",
       "    </tr>\n",
       "    <tr>\n",
       "      <th>1</th>\n",
       "      <td>2008-08-11</td>\n",
       "      <td>11729.669922</td>\n",
       "      <td>11867.110352</td>\n",
       "      <td>11675.530273</td>\n",
       "      <td>11782.349609</td>\n",
       "      <td>1.767956e+08</td>\n",
       "      <td>11782.349609</td>\n",
       "      <td>0.0</td>\n",
       "      <td>0</td>\n",
       "      <td>11</td>\n",
       "      <td>173590000.0</td>\n",
       "    </tr>\n",
       "    <tr>\n",
       "      <th>2</th>\n",
       "      <td>2008-08-12</td>\n",
       "      <td>11781.700195</td>\n",
       "      <td>11782.349609</td>\n",
       "      <td>11601.519531</td>\n",
       "      <td>11642.469727</td>\n",
       "      <td>1.735900e+08</td>\n",
       "      <td>11642.469727</td>\n",
       "      <td>1.0</td>\n",
       "      <td>1</td>\n",
       "      <td>12</td>\n",
       "      <td>182550000.0</td>\n",
       "    </tr>\n",
       "    <tr>\n",
       "      <th>3</th>\n",
       "      <td>2008-08-13</td>\n",
       "      <td>11632.809570</td>\n",
       "      <td>11633.780273</td>\n",
       "      <td>11453.339844</td>\n",
       "      <td>11532.959961</td>\n",
       "      <td>1.825500e+08</td>\n",
       "      <td>11532.959961</td>\n",
       "      <td>1.0</td>\n",
       "      <td>2</td>\n",
       "      <td>13</td>\n",
       "      <td>159790000.0</td>\n",
       "    </tr>\n",
       "    <tr>\n",
       "      <th>4</th>\n",
       "      <td>2008-08-14</td>\n",
       "      <td>11532.070312</td>\n",
       "      <td>11718.280273</td>\n",
       "      <td>11450.889648</td>\n",
       "      <td>11615.929688</td>\n",
       "      <td>1.597900e+08</td>\n",
       "      <td>11615.929688</td>\n",
       "      <td>NaN</td>\n",
       "      <td>3</td>\n",
       "      <td>14</td>\n",
       "      <td>215040000.0</td>\n",
       "    </tr>\n",
       "  </tbody>\n",
       "</table>\n",
       "</div>"
      ],
      "text/plain": [
       "         Date          Open          High           Low         Close  \\\n",
       "0  2008-08-08  11432.089844  11515.575801  11388.040039  11734.320312   \n",
       "1  2008-08-11  11729.669922  11867.110352  11675.530273  11782.349609   \n",
       "2  2008-08-12  11781.700195  11782.349609  11601.519531  11642.469727   \n",
       "3  2008-08-13  11632.809570  11633.780273  11453.339844  11532.959961   \n",
       "4  2008-08-14  11532.070312  11718.280273  11450.889648  11615.929688   \n",
       "\n",
       "         Volume     Adj Close  label  Day  DayOfMonth      Lag_Vol  \n",
       "0  2.128300e+08  11734.320312    0.0    4           8  173590000.0  \n",
       "1  1.767956e+08  11782.349609    0.0    0          11  173590000.0  \n",
       "2  1.735900e+08  11642.469727    1.0    1          12  182550000.0  \n",
       "3  1.825500e+08  11532.959961    1.0    2          13  159790000.0  \n",
       "4  1.597900e+08  11615.929688    NaN    3          14  215040000.0  "
      ]
     },
     "execution_count": 61,
     "metadata": {},
     "output_type": "execute_result"
    }
   ],
   "source": [
    "DJ_df.head()"
   ]
  },
  {
   "cell_type": "code",
   "execution_count": 62,
   "metadata": {},
   "outputs": [],
   "source": [
    "DJ_df.to_csv(mydir+\"Clead_DJ\")"
   ]
  },
  {
   "cell_type": "code",
   "execution_count": 72,
   "metadata": {},
   "outputs": [],
   "source": [
    "a=DJ_df[\"Adj Close\"]-DJ_df[\"Adj Close\"].shift(-1)\n",
    "a[a>=0]=1\n",
    "a[a<0]=0\n",
    "a[1583]=0"
   ]
  },
  {
   "cell_type": "code",
   "execution_count": 73,
   "metadata": {},
   "outputs": [],
   "source": [
    "DJ_df.label=a"
   ]
  },
  {
   "cell_type": "code",
   "execution_count": 74,
   "metadata": {},
   "outputs": [],
   "source": [
    "DJ_df.to_csv(mydir+\"Clead_DJ\")"
   ]
  },
  {
   "cell_type": "markdown",
   "metadata": {},
   "source": [
    "### Dimentionality reduction using PCA "
   ]
  },
  {
   "cell_type": "code",
   "execution_count": 78,
   "metadata": {},
   "outputs": [],
   "source": [
    "from sklearn.decomposition import PCA"
   ]
  },
  {
   "cell_type": "code",
   "execution_count": 84,
   "metadata": {},
   "outputs": [
    {
     "data": {
      "text/plain": [
       "PCA(copy=True, iterated_power='auto', n_components=2, random_state=None,\n",
       "  svd_solver='auto', tol=0.0, whiten=False)"
      ]
     },
     "execution_count": 84,
     "metadata": {},
     "output_type": "execute_result"
    }
   ],
   "source": [
    "pca = PCA(n_components=2)\n",
    "pca.fit(DJ_df.loc[:,[\"Open\",\"High\",\"Low\",\"Close\",\"Volume\",\"Adj Close\",\"Lag_Vol\"]])"
   ]
  },
  {
   "cell_type": "code",
   "execution_count": 85,
   "metadata": {},
   "outputs": [
    {
     "name": "stdout",
     "output_type": "stream",
     "text": [
      "[0.87403698 0.12596302]\n"
     ]
    }
   ],
   "source": [
    "print(pca.explained_variance_ratio_)  "
   ]
  },
  {
   "cell_type": "code",
   "execution_count": 86,
   "metadata": {},
   "outputs": [
    {
     "name": "stdout",
     "output_type": "stream",
     "text": [
      "[5.18088407e+09 1.96680134e+09]\n"
     ]
    }
   ],
   "source": [
    " print(pca.singular_values_) "
   ]
  },
  {
   "cell_type": "code",
   "execution_count": 88,
   "metadata": {},
   "outputs": [],
   "source": [
    "b=pca.transform(DJ_df.loc[:,[\"Open\",\"High\",\"Low\",\"Close\",\"Volume\",\"Adj Close\",\"Lag_Vol\"]])"
   ]
  },
  {
   "cell_type": "code",
   "execution_count": 89,
   "metadata": {},
   "outputs": [
    {
     "data": {
      "text/plain": [
       "(1584, 2)"
      ]
     },
     "execution_count": 89,
     "metadata": {},
     "output_type": "execute_result"
    }
   ],
   "source": [
    "b.shape"
   ]
  },
  {
   "cell_type": "code",
   "execution_count": 92,
   "metadata": {},
   "outputs": [],
   "source": [
    "DJ_df[\"1st_PC\"]=b[:,0]\n",
    "DJ_df[\"2nd_PC\"]=b[:,1]"
   ]
  },
  {
   "cell_type": "code",
   "execution_count": 93,
   "metadata": {},
   "outputs": [],
   "source": [
    "DJ_df.to_csv(mydir+\"Clead_DJ\")"
   ]
  },
  {
   "cell_type": "code",
   "execution_count": 96,
   "metadata": {},
   "outputs": [
    {
     "data": {
      "text/html": [
       "<div>\n",
       "<style scoped>\n",
       "    .dataframe tbody tr th:only-of-type {\n",
       "        vertical-align: middle;\n",
       "    }\n",
       "\n",
       "    .dataframe tbody tr th {\n",
       "        vertical-align: top;\n",
       "    }\n",
       "\n",
       "    .dataframe thead th {\n",
       "        text-align: right;\n",
       "    }\n",
       "</style>\n",
       "<table border=\"1\" class=\"dataframe\">\n",
       "  <thead>\n",
       "    <tr style=\"text-align: right;\">\n",
       "      <th></th>\n",
       "      <th>Date</th>\n",
       "      <th>label</th>\n",
       "      <th>Day</th>\n",
       "      <th>DayOfMonth</th>\n",
       "      <th>1st_PC</th>\n",
       "      <th>2nd_PC</th>\n",
       "    </tr>\n",
       "  </thead>\n",
       "  <tbody>\n",
       "    <tr>\n",
       "      <th>0</th>\n",
       "      <td>2008-08-08</td>\n",
       "      <td>0.0</td>\n",
       "      <td>4</td>\n",
       "      <td>8</td>\n",
       "      <td>2.386747e+07</td>\n",
       "      <td>2.812395e+07</td>\n",
       "    </tr>\n",
       "    <tr>\n",
       "      <th>1</th>\n",
       "      <td>2008-08-11</td>\n",
       "      <td>1.0</td>\n",
       "      <td>0</td>\n",
       "      <td>11</td>\n",
       "      <td>-1.289218e+06</td>\n",
       "      <td>2.324329e+06</td>\n",
       "    </tr>\n",
       "    <tr>\n",
       "      <th>2</th>\n",
       "      <td>2008-08-12</td>\n",
       "      <td>1.0</td>\n",
       "      <td>1</td>\n",
       "      <td>12</td>\n",
       "      <td>2.887976e+06</td>\n",
       "      <td>-6.226016e+06</td>\n",
       "    </tr>\n",
       "    <tr>\n",
       "      <th>3</th>\n",
       "      <td>2008-08-13</td>\n",
       "      <td>0.0</td>\n",
       "      <td>2</td>\n",
       "      <td>13</td>\n",
       "      <td>-7.152297e+06</td>\n",
       "      <td>1.607851e+07</td>\n",
       "    </tr>\n",
       "    <tr>\n",
       "      <th>4</th>\n",
       "      <td>2008-08-14</td>\n",
       "      <td>0.0</td>\n",
       "      <td>3</td>\n",
       "      <td>14</td>\n",
       "      <td>1.651571e+07</td>\n",
       "      <td>-3.878865e+07</td>\n",
       "    </tr>\n",
       "  </tbody>\n",
       "</table>\n",
       "</div>"
      ],
      "text/plain": [
       "         Date  label  Day  DayOfMonth        1st_PC        2nd_PC\n",
       "0  2008-08-08    0.0    4           8  2.386747e+07  2.812395e+07\n",
       "1  2008-08-11    1.0    0          11 -1.289218e+06  2.324329e+06\n",
       "2  2008-08-12    1.0    1          12  2.887976e+06 -6.226016e+06\n",
       "3  2008-08-13    0.0    2          13 -7.152297e+06  1.607851e+07\n",
       "4  2008-08-14    0.0    3          14  1.651571e+07 -3.878865e+07"
      ]
     },
     "execution_count": 96,
     "metadata": {},
     "output_type": "execute_result"
    }
   ],
   "source": [
    "DJ_df.head()"
   ]
  },
  {
   "cell_type": "code",
   "execution_count": 95,
   "metadata": {},
   "outputs": [],
   "source": [
    "DJ_df.drop(columns=[\"Open\",\"High\",\"Low\",\"Close\",\"Volume\",\"Adj Close\",\"Lag_Vol\"],inplace=True)"
   ]
  },
  {
   "cell_type": "code",
   "execution_count": 97,
   "metadata": {},
   "outputs": [],
   "source": [
    "DJ_df.to_csv(mydir+\"number_data\")"
   ]
  },
  {
   "cell_type": "code",
   "execution_count": null,
   "metadata": {},
   "outputs": [],
   "source": []
  }
 ],
 "metadata": {
  "kernelspec": {
   "display_name": "Python 3",
   "language": "python",
   "name": "python3"
  },
  "language_info": {
   "codemirror_mode": {
    "name": "ipython",
    "version": 3
   },
   "file_extension": ".py",
   "mimetype": "text/x-python",
   "name": "python",
   "nbconvert_exporter": "python",
   "pygments_lexer": "ipython3",
   "version": "3.6.8"
  }
 },
 "nbformat": 4,
 "nbformat_minor": 2
}
